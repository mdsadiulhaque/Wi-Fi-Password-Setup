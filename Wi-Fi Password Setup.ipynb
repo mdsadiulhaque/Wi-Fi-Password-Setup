{
 "cells": [
  {
   "cell_type": "code",
   "execution_count": 1,
   "id": "031b525d",
   "metadata": {},
   "outputs": [
    {
     "name": "stdout",
     "output_type": "stream",
     "text": [
      "Collecting wifi_qrcode_generator\n",
      "  Downloading wifi_qrcode_generator-0.1.tar.gz (2.5 kB)\n",
      "  Preparing metadata (setup.py): started\n",
      "  Preparing metadata (setup.py): finished with status 'done'\n",
      "Requirement already satisfied: Pillow in c:\\users\\hp\\anaconda3\\lib\\site-packages (from wifi_qrcode_generator) (9.2.0)\n",
      "Collecting qrcode\n",
      "  Downloading qrcode-7.4.1-py3-none-any.whl (46 kB)\n",
      "     ---------------------------------------- 46.0/46.0 kB 2.4 MB/s eta 0:00:00\n",
      "Requirement already satisfied: typing-extensions in c:\\users\\hp\\anaconda3\\lib\\site-packages (from qrcode->wifi_qrcode_generator) (4.3.0)\n",
      "Requirement already satisfied: colorama in c:\\users\\hp\\anaconda3\\lib\\site-packages (from qrcode->wifi_qrcode_generator) (0.4.5)\n",
      "Collecting pypng\n",
      "  Downloading pypng-0.20220715.0-py3-none-any.whl (58 kB)\n",
      "     ---------------------------------------- 58.1/58.1 kB 3.0 MB/s eta 0:00:00\n",
      "Building wheels for collected packages: wifi_qrcode_generator\n",
      "  Building wheel for wifi_qrcode_generator (setup.py): started\n",
      "  Building wheel for wifi_qrcode_generator (setup.py): finished with status 'done'\n",
      "  Created wheel for wifi_qrcode_generator: filename=wifi_qrcode_generator-0.1-py3-none-any.whl size=3051 sha256=34dc4f7d7e305254fe8861996de3503f2f1de0f1a1547c8406960b8506031027\n",
      "  Stored in directory: c:\\users\\hp\\appdata\\local\\pip\\cache\\wheels\\b3\\68\\a3\\b489d63e3c797e54fab2fd6e0cfeccfefba7806aa282274a43\n",
      "Successfully built wifi_qrcode_generator\n",
      "Installing collected packages: pypng, qrcode, wifi_qrcode_generator\n",
      "Successfully installed pypng-0.20220715.0 qrcode-7.4.1 wifi_qrcode_generator-0.1\n",
      "Note: you may need to restart the kernel to use updated packages.\n"
     ]
    }
   ],
   "source": [
    "pip install wifi_qrcode_generator"
   ]
  },
  {
   "cell_type": "code",
   "execution_count": 5,
   "id": "4a11a785",
   "metadata": {},
   "outputs": [],
   "source": [
    "import wifi_qrcode_generator as qr"
   ]
  },
  {
   "cell_type": "code",
   "execution_count": 8,
   "id": "20679af6",
   "metadata": {},
   "outputs": [
    {
     "data": {
      "image/png": "[encoded data removed]",
      "text/plain": [
       "<PIL.Image.Image image mode=1 size=410x410>"
      ]
     },
     "execution_count": 8,
     "metadata": {},
     "output_type": "execute_result"
    }
   ],
   "source": [
    "qr.wifi_qrcode('wifi name',False,'WPA','password')"
   ]
  },
  {
   "cell_type": "code",
   "execution_count": null,
   "id": "0363b84b",
   "metadata": {},
   "outputs": [],
   "source": []
  }
 ],
 "metadata": {
  "kernelspec": {
   "display_name": "Python 3 (ipykernel)",
   "language": "python",
   "name": "python3"
  },
  "language_info": {
   "codemirror_mode": {
    "name": "ipython",
    "version": 3
   },
   "file_extension": ".py",
   "mimetype": "text/x-python",
   "name": "python",
   "nbconvert_exporter": "python",
   "pygments_lexer": "ipython3",
   "version": "3.9.13"
  }
 },
 "nbformat": 4,
 "nbformat_minor": 5
}
